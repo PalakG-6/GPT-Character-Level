{
 "cells": [
  {
   "cell_type": "markdown",
   "id": "25d6f074",
   "metadata": {},
   "source": [
    "# Generative Pre-trained Model"
   ]
  },
  {
   "cell_type": "code",
   "execution_count": 142,
   "id": "d4c13e81",
   "metadata": {},
   "outputs": [
    {
     "name": "stdout",
     "output_type": "stream",
     "text": [
      "cuda\n"
     ]
    }
   ],
   "source": [
    "import torch\n",
    "import torch.nn as nn\n",
    "from torch.nn import functional as F\n",
    "device='cuda' if torch.cuda.is_available() else 'cpu'\n",
    "print(device)\n",
    "batch_size=4\n",
    "block_size=8\n",
    "learning_rate=3e-4\n",
    "max_iters=250\n",
    "eval_iter=500\n",
    "eval_interval=500\n",
    "n_layer=4#number of decoder blocks\n",
    "n_embd=10 #number of features/embedding dimension\n",
    "n_head=4 #number of heads in multihead attention\n",
    "dropout=0.2 \n",
    "head_size=n_embd//n_head"
   ]
  },
  {
   "cell_type": "code",
   "execution_count": 143,
   "id": "160f7ab5-bc68-4205-a5f1-03caae2678f4",
   "metadata": {},
   "outputs": [
    {
     "name": "stdout",
     "output_type": "stream",
     "text": [
      "['\\n', ' ', '!', '\"', '&', \"'\", '(', ')', '*', ',', '-', '.', '0', '1', '2', '3', '4', '5', '6', '7', '8', '9', ':', ';', '?', 'A', 'B', 'C', 'D', 'E', 'F', 'G', 'H', 'I', 'J', 'K', 'L', 'M', 'N', 'O', 'P', 'Q', 'R', 'S', 'T', 'U', 'V', 'W', 'X', 'Y', 'Z', '[', ']', '_', 'a', 'b', 'c', 'd', 'e', 'f', 'g', 'h', 'i', 'j', 'k', 'l', 'm', 'n', 'o', 'p', 'q', 'r', 's', 't', 'u', 'v', 'w', 'x', 'y', 'z', '\\ufeff'] 81\n"
     ]
    }
   ],
   "source": [
    "#using Wizard of oz text\n",
    "chars=\"\"\n",
    "with open(\"wizard of oz.txt\", \"r\", encoding='utf-8') as f:\n",
    "    text=f.read()\n",
    "    chars=sorted(set(text))\n",
    "#extract unique characters from the text, we are creating our vocabulary to work with\n",
    "vocab_size=len(chars)\n",
    "print(chars, vocab_size)"
   ]
  },
  {
   "cell_type": "code",
   "execution_count": 144,
   "id": "a7c72714-6c12-4f92-8483-ee18893e444f",
   "metadata": {},
   "outputs": [
    {
     "name": "stdout",
     "output_type": "stream",
     "text": [
      "[61, 58, 65, 65, 68] hello\n"
     ]
    }
   ],
   "source": [
    "#we are using character-level characterization for each character we will encode the character to an integer and we will also form a decoding operation\n",
    "#creating a dictionary mapping characters to integer and then integers back to characters\n",
    "string_to_int= {ch:i for i , ch in enumerate(chars)} \n",
    "int_to_string = {i:ch for i,ch in enumerate(chars)}\n",
    "\n",
    "encode = lambda s: [string_to_int[c] for c in s]\n",
    "decode = lambda l: ''.join(int_to_string[i] for i in l)\n",
    "en_hello=encode('hello')\n",
    "de_hello=decode(en_hello)\n",
    "print(en_hello, de_hello)"
   ]
  },
  {
   "cell_type": "code",
   "execution_count": 145,
   "id": "05ffa769-eb9a-4690-a19b-a4c862518334",
   "metadata": {},
   "outputs": [
    {
     "name": "stdout",
     "output_type": "stream",
     "text": [
      "tensor([80, 28, 39, 42, 39, 44, 32, 49,  1, 25, 38, 28,  1, 44, 32, 29,  1, 47,\n",
      "        33, 50, 25, 42, 28,  1, 33, 38,  1, 39, 50,  0,  0,  1,  1, 26, 49,  0,\n",
      "         0,  1,  1, 36, 11,  1, 30, 42, 25, 38, 35,  1, 26, 25])\n"
     ]
    }
   ],
   "source": [
    "#we will convert the text into tensors as having large string is not efficient to work with\n",
    "data= torch.tensor(encode(text), dtype=torch.long)# conveting the integer form of the whole text as a tensor\n",
    "print(data[:50])"
   ]
  },
  {
   "cell_type": "code",
   "execution_count": 146,
   "id": "3f7ccfcb-1433-4f3f-81c9-64384ffda5ae",
   "metadata": {},
   "outputs": [
    {
     "name": "stdout",
     "output_type": "stream",
     "text": [
      "inputs:\n",
      "tensor([[ 1, 68, 67, 56, 58,  1, 68, 67],\n",
      "        [54, 64, 59, 54, 72, 73,  0, 55],\n",
      "        [58, 71,  1, 54, 65, 65,  9,  1],\n",
      "        [ 1, 55, 78,  1, 72, 74, 56, 61]], device='cuda:0')\n",
      "outputs:\n",
      "tensor([[68, 67, 56, 58,  1, 68, 67,  1],\n",
      "        [64, 59, 54, 72, 73,  0, 55, 58],\n",
      "        [71,  1, 54, 65, 65,  9,  1, 55],\n",
      "        [55, 78,  1, 72, 74, 56, 61,  1]], device='cuda:0')\n"
     ]
    }
   ],
   "source": [
    "#dividing the data into training and testing\n",
    "n=int(0.8*len(data))\n",
    "train_data=data[:n]\n",
    "val_data=data[n:]\n",
    "\n",
    "def get_batch(split):\n",
    "    data = train_data if split=='train' else val_data\n",
    "    ix=torch.randint(len(data)-block_size,(batch_size,))\n",
    "    x=torch.stack([data[i:i+block_size] for i in ix])\n",
    "    y=torch.stack([data[i+1:i+(block_size+1)]for i in ix])\n",
    "    x,y=x.to(device),y.to(device)\n",
    "    return x,y\n",
    "x,y=get_batch(train_data)\n",
    "print(\"inputs:\")\n",
    "print(x)\n",
    "print(\"outputs:\")\n",
    "print(y)"
   ]
  },
  {
   "cell_type": "code",
   "execution_count": 147,
   "id": "9b101236",
   "metadata": {},
   "outputs": [],
   "source": [
    "@torch.no_grad #pytorch doesn't do any gradient computation because we only want to compute loss here\n",
    "def estimate_loss():\n",
    "    model.eval()\n",
    "    out={}\n",
    "    for split in ['train','val']:\n",
    "        losses=torch.zeros(eval_iter)\n",
    "        \n",
    "        for k in range(eval_iter):\n",
    "            x,y=get_batch(split)\n",
    "            Logits,loss=model.forward(x,y)\n",
    "            losses[k]=loss.item()\n",
    "        out[split]=losses.mean()\n",
    "    model.train()\n",
    "    return out    \n",
    "        "
   ]
  },
  {
   "cell_type": "code",
   "execution_count": 148,
   "id": "96fbd397",
   "metadata": {},
   "outputs": [],
   "source": [
    "class Head(nn.Module):\n",
    "    \n",
    "    def __init__(self,head_size):\n",
    "        super().__init__()\n",
    "        self.key=nn.Linear(n_embd,head_size,bias=False)\n",
    "        self.query=nn.Linear(n_embd,head_size,bias=False)\n",
    "        self.value=nn.Linear(n_embd,head_size,bias=False)\n",
    "        self.register_buffer('tril',torch.tril(torch.ones(block_size,block_size)))\n",
    "        self.dropout=nn.Dropout(dropout)\n",
    "        \n",
    "    def forward(self,x):\n",
    "            #input of size (B,T,C)\n",
    "            #output of size (B,T,hs)\n",
    "            B,T,C=x.shape\n",
    "            k=self.key(x)#(B,T,hs)\n",
    "            q=self.query(x)#(B,T,hs)\n",
    "            #computing attention scores\n",
    "            wei=q@k.transpose(-2,-1)*k.shape[-1]**-0.5 #k.transpose--> (B,T,hs).(B,hs,T)=(B,T,T)\n",
    "            #k.shape[-1]**-0.5 --> scaling the dot product by 1/sqrt(hs) so that no vector is dominant over other in the dot product\n",
    "            wei=wei.masked_fill(self.tril[:T,:T]==0, float('-inf'))\n",
    "            wei=F.softmax(wei,dim=-1)\n",
    "            #performing weighted aggregation of the values\n",
    "            v=self.value(x)#(B,T,hs)\n",
    "            out=wei@v#(B,T,T)@(B,T,hs)-->(B,T,hs)\n",
    "            return out\n",
    "\n"
   ]
  },
  {
   "cell_type": "code",
   "execution_count": 149,
   "id": "a96cf92e",
   "metadata": {},
   "outputs": [],
   "source": [
    "\n",
    "class MultiHeadAttention(nn.Module):\n",
    "    \"\"\" multiple heads of self-attention in parallel \"\"\"\n",
    "\n",
    "    def __init__(self, num_heads, head_size):\n",
    "        super().__init__()\n",
    "        self.heads = nn.ModuleList([Head(head_size) for _ in range(num_heads)])#each head id processing parallely not sequentially--> ModuleList\n",
    "        self.proj = nn.Linear(head_size * num_heads, n_embd)#adds learnable parameters i.e weight and bias \n",
    "        self.dropout = nn.Dropout(dropout)\n",
    "\n",
    "    def forward(self, x):\n",
    "        out = torch.cat([h(x) for h in self.heads], dim=-1)#concatinating along the last dimension i.e C; concatinating all the features of different heads\n",
    "        # (B, T, F) -> (B, T, [h1, h1, h1, h1, h2, h2, h2, h2, h3, h3, h3, h3])\n",
    "        out = self.dropout(self.proj(out))\n",
    "        return out\n",
    "    "
   ]
  },
  {
   "cell_type": "code",
   "execution_count": 150,
   "id": "52e0decd",
   "metadata": {},
   "outputs": [],
   "source": [
    "class FeedForward(nn.Module):\n",
    "    def __init__(self,n_embd):\n",
    "        super().__init__()\n",
    "        self.net=nn.Sequential(\n",
    "            nn.Linear(n_embd,4*n_embd),\n",
    "            nn.ReLU(),\n",
    "            nn.Linear(4*n_embd,n_embd),\n",
    "            nn.Dropout(dropout)\n",
    "        )\n",
    "    def forward(self,x):\n",
    "        return self.net(x)\n"
   ]
  },
  {
   "cell_type": "code",
   "execution_count": 151,
   "id": "ef1d72da",
   "metadata": {},
   "outputs": [],
   "source": [
    "class Block(nn.Module):\n",
    "    \n",
    "    def __init__(self,n_embd, n_head):\n",
    "        super().__init__()\n",
    "        head_size=n_embd//n_head #number of features each head will be processing\n",
    "        self.sa=MultiHeadAttention(n_embd,n_head) #self-attention\n",
    "        self.ffwd=FeedForward(n_embd)\n",
    "        self.ln1=nn.LayerNorm(n_embd)\n",
    "        self.ln2=nn.LayerNorm(n_embd)\n",
    "    \n",
    "    def forward(self,x):#post-norm architecture\n",
    "        y=self.sa(x)\n",
    "        x=self.ln1(x+y)\n",
    "        y=self.ffwd(x)\n",
    "        x=self.ln2(x+y)\n",
    "        return x\n"
   ]
  },
  {
   "cell_type": "code",
   "execution_count": 155,
   "id": "3a4ab732-8378-46d3-bab4-804ccf2ad407",
   "metadata": {},
   "outputs": [],
   "source": [
    "class GPTLanguageModel(nn.Module):#class BigramLanguageModel inherits from nn.Module class \n",
    "    def __init__(self,vocab_size):\n",
    "        ##__init__ is a constructor method called when an instance of the class is created it takes argument vocab_size\n",
    "        super().__init__()#calling constructor method of the parent class, important when inheritance is there\n",
    "        self.embedding_layer_table=nn.Embedding(vocab_size,n_embd)#instance of the class is created as self. \n",
    "        #this is an embedding layer which converts token into continous vectors\n",
    "        self.positional_embedding_table=nn.Embedding(vocab_size,n_embd)#learnable embedding for GPT model\n",
    "        #embedding for each sequence rather than individual tokens\n",
    "        self.blocks=nn.Sequential(*[Block(n_embd,n_head=n_head) for _ in range(n_layer)])#number of dcoder blocks, same block is created 4 times  and stored in self.blocks\n",
    "        self.ln_f=nn.LayerNorm(n_embd)#final layer norm after the decoder blocks which helps the model converge better by normalizing activations across feature dimension\n",
    "        self.lm_head=nn.Linear(n_embd,vocab_size)#linear layer for predicting the next token in the sequence\n",
    "        self.apply(self._init_weights)#applying given function to all sub modules of the model\n",
    "    \n",
    "    def _init_weights(self,module):#setting initial weights for linear and embedding layers\n",
    "        if isinstance(module,nn.Linear):\n",
    "            torch.nn.init.normal_(module.weight, mean=0.0, std=0.02)#weights have normal distribution with 0 mean and 0.02 std\n",
    "            if module.bias is not None:\n",
    "                torch.nn.init.zeros_(module.bias)#sets the biases to zero if there are any\n",
    "        elif isinstance(module,nn.Embedding):\n",
    "            torch.nn.init.normal_(module.weight,mean=0.0, std=0.02)\n",
    "        \n",
    "        \n",
    "    def forward(self,index,targets=None):#forward pass method\n",
    "#             logits=self.embedding_layer_table(index)#applies embeddig layer to input indices\n",
    "            \n",
    "            B, T = index.shape\n",
    "            tok_emb=self.embedding_layer_table(index)#(B,T,C)\n",
    "            pos_emb=self.positional_embedding_table(torch.arange(T,device=device))#(T,C)\n",
    "            \n",
    "            x=tok_emb+pos_emb#input to be fed into the decoder blocks\n",
    "            x=self.blocks(x)#feeding x into the decoder blocks\n",
    "            x=self.ln_f(x)#normalization\n",
    "            logits=self.lm_head(x)#obtaining probabilities to be fed into softmax\n",
    "            \n",
    "            \n",
    "            if targets==None:\n",
    "                loss=None\n",
    "            else:\n",
    "                B,T,C=logits.shape#extrating the dimension of logits as Batch, Time and Channel\n",
    "                logits=logits.view(B*T,C)#to treat each element in the sequence as individual prediction\n",
    "                targets=targets.view(B*T)#each prediction correspondinly has one target\n",
    "                loss=F.cross_entropy(logits,targets) #computes loss between input indices and target indices\n",
    "            \n",
    "            return logits,loss\n",
    "        \n",
    "    def generate(self,index,max_new_tokens):#creates a sequence of new indices based on input indices\n",
    "            #index is a (B,T) array of indices in current context\n",
    "            for _ in range(max_new_tokens):\n",
    "                #get new predictions\n",
    "                logits,loss=self.forward(index)\n",
    "                #consider only last time stamp to focus on the most recent prediction\n",
    "                logits=logits[:,-1,:]#becomes (B,C)\n",
    "                #apply softmax to get probabilities\n",
    "                probs=F.softmax(logits,dim=-1)#(B,1)\n",
    "                index_next=torch.multinomial(probs,num_samples=1)#(B,T+1)\n",
    "                #append new index to the running sequence\n",
    "                index=torch.cat((index,index_next), dim=1)#updating index \n",
    "                \n",
    "            return index\n",
    "\n",
    "model = GPTLanguageModel(vocab_size)\n",
    "# print('loading model parameters...')\n",
    "# with open('model-01.pkl', 'rb') as f:\n",
    "#     model = pickle.load(f)\n",
    "# print('loaded successfully!')\n",
    "m = model.to(device)\n"
   ]
  },
  {
   "cell_type": "code",
   "execution_count": 153,
   "id": "83401427",
   "metadata": {},
   "outputs": [],
   "source": []
  },
  {
   "cell_type": "code",
   "execution_count": 156,
   "id": "b7325db1",
   "metadata": {},
   "outputs": [
    {
     "name": "stdout",
     "output_type": "stream",
     "text": [
      "step: 0, train loss: 4.399, val loss: 4.399\n",
      "3.4630956649780273\n",
      "model saved\n"
     ]
    }
   ],
   "source": [
    "# model=GPTLanguageModel(vocab_size)\n",
    "# m=model.to(device)\n",
    "\n",
    "# context=torch.zeros((1,1),dtype=torch.long,device=device)#from where to start the sequence\n",
    "# print(context)\n",
    "# generated_chars=decode(m.generate(context,max_new_tokens=500)[0].tolist())\n",
    "# #[0] is used to extract only the tensor as the generated sequence is returned as a tuple\n",
    "# #tolist() converts the tensor into a python list\n",
    "# #decode() is converting integer to string\n",
    "# print(generated_chars)\n",
    "\n",
    "# create a PyTorch optimizer\n",
    "# import mmap\n",
    "# import random\n",
    "# import pickle\n",
    "# import argparse\n",
    "# optimizer = torch.optim.AdamW(model.parameters(), lr=learning_rate)\n",
    "\n",
    "# for iter in range(max_iters):\n",
    "# #     print(iter)\n",
    "#     if iter % eval_iter == 0:\n",
    "#         losses = estimate_loss()\n",
    "#         print(f\"step: {iter}, train loss: {losses['train']:.3f}, val loss: {losses['val']:.3f}\")\n",
    "\n",
    "#     # sample a batch of data\n",
    "#     xb, yb = get_batch('train')\n",
    "\n",
    "#     # evaluate the loss\n",
    "#     logits, loss = model.forward(xb, yb)\n",
    "#     optimizer.zero_grad(set_to_none=True)\n",
    "#     loss.backward()\n",
    "#     optimizer.step()\n",
    "# print(loss.item())\n",
    "\n",
    "# with open('model-01.pkl', 'wb') as f:\n",
    "#     pickle.dump(model, f)\n",
    "# print('model saved')"
   ]
  },
  {
   "cell_type": "code",
   "execution_count": 157,
   "id": "25581794",
   "metadata": {},
   "outputs": [
    {
     "name": "stdout",
     "output_type": "stream",
     "text": [
      "iter: 0, train loss:3.570, val loss: 3.581\n",
      "3.2248287200927734\n",
      "model saved\n"
     ]
    }
   ],
   "source": [
    "import mmap\n",
    "import random\n",
    "import pickle\n",
    "import argparse\n",
    "#create a pytorch optimizer\n",
    "optimizer=torch.optim.AdamW(model.parameters(),lr=learning_rate)\n",
    "#Adaptive Moment Estimation with weight decay\n",
    "\n",
    "for iter in range(max_iters):\n",
    "    \n",
    "    if iter % eval_iter==0:\n",
    "        losses=estimate_loss()\n",
    "        print(f\"iter: {iter}, train loss:{losses['train']:.3f}, val loss: {losses['val']:.3f}\")\n",
    "        \n",
    "    #sample a batch of data\n",
    "    x,y=get_batch(train_data)\n",
    "    \n",
    "    #evaluating the loss\n",
    "    logits, loss=model.forward(x,y)\n",
    "    optimizer.zero_grad(set_to_none=True)#so that previous gradients do not affect the current gradient\n",
    "    #set to none instead of zero as none occupies a lot less space compared to zero\n",
    "    loss.backward()#calculates gradient of loss and model parameters through backpropagation\n",
    "    optimizer.step()#updates the parametrs based on the gradient using AdamW optimizer\n",
    "print(loss.item())#value of loss for current itteration \n",
    "with open('model-01.pkl', 'wb') as f:\n",
    "    pickle.dump(model, f)\n",
    "print('model saved')"
   ]
  },
  {
   "cell_type": "code",
   "execution_count": null,
   "id": "f6fc6a4f",
   "metadata": {},
   "outputs": [],
   "source": [
    "# context=torch.zeros((1,1),dtype=torch.long,device=device)#from where to start the sequence\n",
    "# generated_chars=decode(m.generate(context,max_new_tokens=500)[0].tolist())\n",
    "# print(generated_chars)"
   ]
  },
  {
   "cell_type": "code",
   "execution_count": null,
   "id": "4c43293a",
   "metadata": {},
   "outputs": [],
   "source": [
    "prompt = 'Hello! Can you see me?'\n",
    "context = torch.tensor(encode(prompt), dtype=torch.long, device=device)\n",
    "generated_chars = decode(m.generate(context.unsqueeze(0), max_new_tokens=100)[0].tolist())\n",
    "print(generated_chars)"
   ]
  }
 ],
 "metadata": {
  "kernelspec": {
   "display_name": "Cuda gpt",
   "language": "python",
   "name": "cuda"
  },
  "language_info": {
   "codemirror_mode": {
    "name": "ipython",
    "version": 3
   },
   "file_extension": ".py",
   "mimetype": "text/x-python",
   "name": "python",
   "nbconvert_exporter": "python",
   "pygments_lexer": "ipython3",
   "version": "3.9.12"
  }
 },
 "nbformat": 4,
 "nbformat_minor": 5
}
